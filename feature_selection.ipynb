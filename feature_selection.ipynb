{
 "cells": [
  {
   "cell_type": "code",
   "execution_count": 24,
   "metadata": {},
   "outputs": [],
   "source": [
    "import pandas as pd\n",
    "import numpy as np\n",
    "import warnings\n",
    "warnings.filterwarnings('ignore')\n",
    "\n",
    "import matplotlib.pyplot as plt\n",
    "import seaborn as sns\n",
    "%matplotlib inline\n",
    "\n",
    "from sklearn.model_selection import train_test_split\n",
    "from sklearn.preprocessing import MinMaxScaler\n",
    "\n",
    "from sklearn.utils import resample\n",
    "\n",
    "import time\n",
    "import random\n",
    "\n",
    "from sklearn.linear_model import LogisticRegression\n",
    "from sklearn.model_selection import KFold\n",
    "from sklearn.pipeline import Pipeline\n",
    "from sklearn.model_selection import GridSearchCV\n",
    "from sklearn.metrics import confusion_matrix, make_scorer, precision_score, accuracy_score,f1_score, recall_score\n",
    "from sklearn.linear_model import SGDClassifier\n",
    "from yellowbrick.classifier import ClassificationReport\n",
    "from yellowbrick.classifier import ClassPredictionError\n",
    "from yellowbrick.classifier import ConfusionMatrix\n",
    "from yellowbrick.classifier import ROCAUC\n",
    "from yellowbrick.classifier import PrecisionRecallCurve\n",
    "from sklearn.model_selection import cross_val_predict, cross_val_score\n",
    "\n",
    "\n",
    "from sklearn.feature_selection import RFE\n",
    "from boruta import BorutaPy"
   ]
  },
  {
   "cell_type": "code",
   "execution_count": 27,
   "metadata": {},
   "outputs": [],
   "source": [
    "random_seed=42"
   ]
  },
  {
   "cell_type": "code",
   "execution_count": 17,
   "metadata": {},
   "outputs": [],
   "source": [
    "df_train = pd.read_csv('train.csv')\n"
   ]
  },
  {
   "cell_type": "code",
   "execution_count": 18,
   "metadata": {},
   "outputs": [
    {
     "data": {
      "text/html": [
       "<div>\n",
       "<style scoped>\n",
       "    .dataframe tbody tr th:only-of-type {\n",
       "        vertical-align: middle;\n",
       "    }\n",
       "\n",
       "    .dataframe tbody tr th {\n",
       "        vertical-align: top;\n",
       "    }\n",
       "\n",
       "    .dataframe thead th {\n",
       "        text-align: right;\n",
       "    }\n",
       "</style>\n",
       "<table border=\"1\" class=\"dataframe\">\n",
       "  <thead>\n",
       "    <tr style=\"text-align: right;\">\n",
       "      <th></th>\n",
       "      <th>Unnamed: 0</th>\n",
       "      <th>acc_now_delinq</th>\n",
       "      <th>annual_inc</th>\n",
       "      <th>joint_app</th>\n",
       "      <th>chargeoff_within_12_mths</th>\n",
       "      <th>collection_recovery_fee</th>\n",
       "      <th>collections_12_mths_ex_med</th>\n",
       "      <th>delinq_2yrs</th>\n",
       "      <th>delinq_amnt</th>\n",
       "      <th>dti</th>\n",
       "      <th>...</th>\n",
       "      <th>tax_liens.1</th>\n",
       "      <th>term.1</th>\n",
       "      <th>total_acc.1</th>\n",
       "      <th>total_pymnt.1</th>\n",
       "      <th>total_pymnt_inv.1</th>\n",
       "      <th>total_rec_int.1</th>\n",
       "      <th>total_rec_late_fee.1</th>\n",
       "      <th>total_rec_prncp.1</th>\n",
       "      <th>earliest_cr_line_date.1</th>\n",
       "      <th>loan_status</th>\n",
       "    </tr>\n",
       "  </thead>\n",
       "  <tbody>\n",
       "    <tr>\n",
       "      <td>0</td>\n",
       "      <td>52309</td>\n",
       "      <td>0.0</td>\n",
       "      <td>0.017296</td>\n",
       "      <td>0.0</td>\n",
       "      <td>0.0</td>\n",
       "      <td>0.0</td>\n",
       "      <td>0.0</td>\n",
       "      <td>0.0</td>\n",
       "      <td>0.0</td>\n",
       "      <td>0.042479</td>\n",
       "      <td>...</td>\n",
       "      <td>0.0</td>\n",
       "      <td>1.0</td>\n",
       "      <td>0.305085</td>\n",
       "      <td>0.556515</td>\n",
       "      <td>0.557348</td>\n",
       "      <td>0.299021</td>\n",
       "      <td>1.000981e-11</td>\n",
       "      <td>0.6500</td>\n",
       "      <td>0.579996</td>\n",
       "      <td>0</td>\n",
       "    </tr>\n",
       "    <tr>\n",
       "      <td>1</td>\n",
       "      <td>38014</td>\n",
       "      <td>0.0</td>\n",
       "      <td>0.008719</td>\n",
       "      <td>0.0</td>\n",
       "      <td>0.0</td>\n",
       "      <td>0.0</td>\n",
       "      <td>0.0</td>\n",
       "      <td>0.0</td>\n",
       "      <td>0.0</td>\n",
       "      <td>0.017815</td>\n",
       "      <td>...</td>\n",
       "      <td>0.0</td>\n",
       "      <td>1.0</td>\n",
       "      <td>0.093220</td>\n",
       "      <td>0.732477</td>\n",
       "      <td>0.733149</td>\n",
       "      <td>0.595846</td>\n",
       "      <td>1.000981e-11</td>\n",
       "      <td>0.7275</td>\n",
       "      <td>0.738631</td>\n",
       "      <td>0</td>\n",
       "    </tr>\n",
       "    <tr>\n",
       "      <td>2</td>\n",
       "      <td>49445</td>\n",
       "      <td>0.0</td>\n",
       "      <td>0.008719</td>\n",
       "      <td>0.0</td>\n",
       "      <td>0.0</td>\n",
       "      <td>0.0</td>\n",
       "      <td>0.0</td>\n",
       "      <td>0.0</td>\n",
       "      <td>0.0</td>\n",
       "      <td>0.031740</td>\n",
       "      <td>...</td>\n",
       "      <td>0.0</td>\n",
       "      <td>0.0</td>\n",
       "      <td>0.398305</td>\n",
       "      <td>0.138887</td>\n",
       "      <td>0.140101</td>\n",
       "      <td>0.056731</td>\n",
       "      <td>1.000981e-11</td>\n",
       "      <td>0.1750</td>\n",
       "      <td>0.713353</td>\n",
       "      <td>0</td>\n",
       "    </tr>\n",
       "    <tr>\n",
       "      <td>3</td>\n",
       "      <td>25480</td>\n",
       "      <td>0.0</td>\n",
       "      <td>0.012007</td>\n",
       "      <td>0.0</td>\n",
       "      <td>0.0</td>\n",
       "      <td>0.0</td>\n",
       "      <td>0.0</td>\n",
       "      <td>0.0</td>\n",
       "      <td>0.0</td>\n",
       "      <td>0.021917</td>\n",
       "      <td>...</td>\n",
       "      <td>0.0</td>\n",
       "      <td>0.0</td>\n",
       "      <td>0.237288</td>\n",
       "      <td>0.149915</td>\n",
       "      <td>0.151119</td>\n",
       "      <td>0.027469</td>\n",
       "      <td>1.000981e-11</td>\n",
       "      <td>0.2100</td>\n",
       "      <td>0.809340</td>\n",
       "      <td>0</td>\n",
       "    </tr>\n",
       "    <tr>\n",
       "      <td>4</td>\n",
       "      <td>22883</td>\n",
       "      <td>0.0</td>\n",
       "      <td>0.008576</td>\n",
       "      <td>0.0</td>\n",
       "      <td>0.0</td>\n",
       "      <td>0.0</td>\n",
       "      <td>0.0</td>\n",
       "      <td>0.0</td>\n",
       "      <td>0.0</td>\n",
       "      <td>0.039267</td>\n",
       "      <td>...</td>\n",
       "      <td>0.0</td>\n",
       "      <td>1.0</td>\n",
       "      <td>0.381356</td>\n",
       "      <td>0.488459</td>\n",
       "      <td>0.489354</td>\n",
       "      <td>0.065163</td>\n",
       "      <td>1.000981e-11</td>\n",
       "      <td>0.6950</td>\n",
       "      <td>0.693332</td>\n",
       "      <td>0</td>\n",
       "    </tr>\n",
       "  </tbody>\n",
       "</table>\n",
       "<p>5 rows × 1654 columns</p>\n",
       "</div>"
      ],
      "text/plain": [
       "   Unnamed: 0  acc_now_delinq  annual_inc  joint_app  \\\n",
       "0       52309             0.0    0.017296        0.0   \n",
       "1       38014             0.0    0.008719        0.0   \n",
       "2       49445             0.0    0.008719        0.0   \n",
       "3       25480             0.0    0.012007        0.0   \n",
       "4       22883             0.0    0.008576        0.0   \n",
       "\n",
       "   chargeoff_within_12_mths  collection_recovery_fee  \\\n",
       "0                       0.0                      0.0   \n",
       "1                       0.0                      0.0   \n",
       "2                       0.0                      0.0   \n",
       "3                       0.0                      0.0   \n",
       "4                       0.0                      0.0   \n",
       "\n",
       "   collections_12_mths_ex_med  delinq_2yrs  delinq_amnt       dti  ...  \\\n",
       "0                         0.0          0.0          0.0  0.042479  ...   \n",
       "1                         0.0          0.0          0.0  0.017815  ...   \n",
       "2                         0.0          0.0          0.0  0.031740  ...   \n",
       "3                         0.0          0.0          0.0  0.021917  ...   \n",
       "4                         0.0          0.0          0.0  0.039267  ...   \n",
       "\n",
       "   tax_liens.1  term.1  total_acc.1  total_pymnt.1  total_pymnt_inv.1  \\\n",
       "0          0.0     1.0     0.305085       0.556515           0.557348   \n",
       "1          0.0     1.0     0.093220       0.732477           0.733149   \n",
       "2          0.0     0.0     0.398305       0.138887           0.140101   \n",
       "3          0.0     0.0     0.237288       0.149915           0.151119   \n",
       "4          0.0     1.0     0.381356       0.488459           0.489354   \n",
       "\n",
       "   total_rec_int.1  total_rec_late_fee.1  total_rec_prncp.1  \\\n",
       "0         0.299021          1.000981e-11             0.6500   \n",
       "1         0.595846          1.000981e-11             0.7275   \n",
       "2         0.056731          1.000981e-11             0.1750   \n",
       "3         0.027469          1.000981e-11             0.2100   \n",
       "4         0.065163          1.000981e-11             0.6950   \n",
       "\n",
       "   earliest_cr_line_date.1  loan_status  \n",
       "0                 0.579996            0  \n",
       "1                 0.738631            0  \n",
       "2                 0.713353            0  \n",
       "3                 0.809340            0  \n",
       "4                 0.693332            0  \n",
       "\n",
       "[5 rows x 1654 columns]"
      ]
     },
     "execution_count": 18,
     "metadata": {},
     "output_type": "execute_result"
    }
   ],
   "source": [
    "df_train.head()"
   ]
  },
  {
   "cell_type": "code",
   "execution_count": 19,
   "metadata": {},
   "outputs": [],
   "source": [
    "df_train.drop('Unnamed: 0',axis=1,inplace=True)"
   ]
  },
  {
   "cell_type": "code",
   "execution_count": 20,
   "metadata": {},
   "outputs": [],
   "source": [
    "X_train=df_train.drop('loan_status',axis=1)\n",
    "y_train=df_train.loan_status"
   ]
  },
  {
   "cell_type": "code",
   "execution_count": 21,
   "metadata": {},
   "outputs": [
    {
     "data": {
      "text/plain": [
       "(34563, 1652)"
      ]
     },
     "execution_count": 21,
     "metadata": {},
     "output_type": "execute_result"
    }
   ],
   "source": [
    "X_train.shape "
   ]
  },
  {
   "cell_type": "markdown",
   "metadata": {},
   "source": [
    "1652 variables, far too many to be implemented. Can this be reduced?"
   ]
  },
  {
   "cell_type": "markdown",
   "metadata": {},
   "source": [
    "Take best model from imbalance strategy comparison (logistic regression with oversampling)"
   ]
  },
  {
   "cell_type": "code",
   "execution_count": 22,
   "metadata": {},
   "outputs": [],
   "source": [
    "df_majority = df_train[df_train['loan_status']==0]\n",
    "df_minority = df_train[df_train['loan_status']==1]"
   ]
  },
  {
   "cell_type": "code",
   "execution_count": 28,
   "metadata": {},
   "outputs": [],
   "source": [
    "df_minority_oversampled = resample(df_minority, \n",
    "                                 replace=True,     # sample with replacement\n",
    "                                 n_samples=len(df_majority),    # to match majority class\n",
    "                                 random_state=random_seed)\n",
    "df_os = pd.concat([df_minority_oversampled, df_majority])"
   ]
  },
  {
   "cell_type": "code",
   "execution_count": 30,
   "metadata": {},
   "outputs": [],
   "source": [
    "y_train_os = df_os['loan_status']\n",
    "X_train_os = df_os.drop('loan_status', axis=1)"
   ]
  },
  {
   "cell_type": "code",
   "execution_count": 32,
   "metadata": {},
   "outputs": [],
   "source": [
    "#best model\n",
    "model = LogisticRegression(C=10, class_weight = 'balanced', max_iter = 100)"
   ]
  },
  {
   "cell_type": "code",
   "execution_count": 33,
   "metadata": {},
   "outputs": [
    {
     "data": {
      "text/plain": [
       "LogisticRegression(C=10, class_weight='balanced', dual=False,\n",
       "                   fit_intercept=True, intercept_scaling=1, l1_ratio=None,\n",
       "                   max_iter=100, multi_class='auto', n_jobs=None, penalty='l2',\n",
       "                   random_state=None, solver='lbfgs', tol=0.0001, verbose=0,\n",
       "                   warm_start=False)"
      ]
     },
     "execution_count": 33,
     "metadata": {},
     "output_type": "execute_result"
    }
   ],
   "source": [
    "model.fit(X_train_os,y_train_os)"
   ]
  },
  {
   "cell_type": "code",
   "execution_count": 34,
   "metadata": {},
   "outputs": [
    {
     "data": {
      "text/plain": [
       "array([ 0.43554461,  0.36690862,  0.73423179, ...,  6.77633025,\n",
       "       42.37786181,  0.09244833])"
      ]
     },
     "execution_count": 34,
     "metadata": {},
     "output_type": "execute_result"
    }
   ],
   "source": [
    "importance =abs( model.coef_[0])\n",
    "importance"
   ]
  },
  {
   "cell_type": "code",
   "execution_count": 35,
   "metadata": {},
   "outputs": [
    {
     "ename": "NameError",
     "evalue": "name 'X_train_sm' is not defined",
     "output_type": "error",
     "traceback": [
      "\u001b[0;31m---------------------------------------------------------------------------\u001b[0m",
      "\u001b[0;31mNameError\u001b[0m                                 Traceback (most recent call last)",
      "\u001b[0;32m<ipython-input-35-4acbcefe2504>\u001b[0m in \u001b[0;36m<module>\u001b[0;34m\u001b[0m\n\u001b[0;32m----> 1\u001b[0;31m \u001b[0mfeature_name\u001b[0m \u001b[0;34m=\u001b[0m \u001b[0mX_train_sm\u001b[0m\u001b[0;34m.\u001b[0m\u001b[0mcolumns\u001b[0m\u001b[0;34m.\u001b[0m\u001b[0mvalues\u001b[0m\u001b[0;34m\u001b[0m\u001b[0;34m\u001b[0m\u001b[0m\n\u001b[0m\u001b[1;32m      2\u001b[0m \u001b[0msummary_table\u001b[0m \u001b[0;34m=\u001b[0m \u001b[0mpd\u001b[0m\u001b[0;34m.\u001b[0m\u001b[0mDataFrame\u001b[0m\u001b[0;34m(\u001b[0m\u001b[0mcolumns\u001b[0m \u001b[0;34m=\u001b[0m \u001b[0;34m[\u001b[0m\u001b[0;34m'Feature name'\u001b[0m\u001b[0;34m]\u001b[0m\u001b[0;34m,\u001b[0m \u001b[0mdata\u001b[0m \u001b[0;34m=\u001b[0m \u001b[0mfeature_name\u001b[0m\u001b[0;34m)\u001b[0m\u001b[0;34m\u001b[0m\u001b[0;34m\u001b[0m\u001b[0m\n\u001b[1;32m      3\u001b[0m \u001b[0msummary_table\u001b[0m\u001b[0;34m[\u001b[0m\u001b[0;34m'Coefficients'\u001b[0m\u001b[0;34m]\u001b[0m \u001b[0;34m=\u001b[0m \u001b[0mnp\u001b[0m\u001b[0;34m.\u001b[0m\u001b[0mtranspose\u001b[0m\u001b[0;34m(\u001b[0m\u001b[0mmodel\u001b[0m\u001b[0;34m.\u001b[0m\u001b[0mcoef_\u001b[0m\u001b[0;34m)\u001b[0m\u001b[0;34m\u001b[0m\u001b[0;34m\u001b[0m\u001b[0m\n\u001b[1;32m      4\u001b[0m \u001b[0msummary_table\u001b[0m\u001b[0;34m.\u001b[0m\u001b[0mindex\u001b[0m \u001b[0;34m=\u001b[0m \u001b[0msummary_table\u001b[0m\u001b[0;34m.\u001b[0m\u001b[0mindex\u001b[0m \u001b[0;34m+\u001b[0m \u001b[0;36m1\u001b[0m\u001b[0;34m\u001b[0m\u001b[0;34m\u001b[0m\u001b[0m\n\u001b[1;32m      5\u001b[0m \u001b[0msummary_table\u001b[0m\u001b[0;34m.\u001b[0m\u001b[0mloc\u001b[0m\u001b[0;34m[\u001b[0m\u001b[0;36m0\u001b[0m\u001b[0;34m]\u001b[0m \u001b[0;34m=\u001b[0m \u001b[0;34m[\u001b[0m\u001b[0;34m'Intercept'\u001b[0m\u001b[0;34m,\u001b[0m \u001b[0mmodel\u001b[0m\u001b[0;34m.\u001b[0m\u001b[0mintercept_\u001b[0m\u001b[0;34m[\u001b[0m\u001b[0;36m0\u001b[0m\u001b[0;34m]\u001b[0m\u001b[0;34m]\u001b[0m \u001b[0;31m# intercept is not in column names\u001b[0m\u001b[0;34m\u001b[0m\u001b[0;34m\u001b[0m\u001b[0m\n",
      "\u001b[0;31mNameError\u001b[0m: name 'X_train_sm' is not defined"
     ]
    }
   ],
   "source": [
    "feature_name = X_train_sm.columns.values\n",
    "summary_table = pd.DataFrame(columns = ['Feature name'], data = feature_name)\n",
    "summary_table['Coefficients'] = np.transpose(model.coef_)\n",
    "summary_table.index = summary_table.index + 1\n",
    "summary_table.loc[0] = ['Intercept', model.intercept_[0]] # intercept is not in column names\n",
    "summary_table = summary_table.sort_index()\n",
    "summary_table"
   ]
  },
  {
   "cell_type": "code",
   "execution_count": null,
   "metadata": {},
   "outputs": [],
   "source": [
    "boruta_selector = BorutaPy(forest, n_estimators = 'auto', random_state = 0,perc=90,verbose=2)\n",
    "boruta_selector.fit(np.array(X_train), np.array(y_train))"
   ]
  }
 ],
 "metadata": {
  "kernelspec": {
   "display_name": "Python 3",
   "language": "python",
   "name": "python3"
  },
  "language_info": {
   "codemirror_mode": {
    "name": "ipython",
    "version": 3
   },
   "file_extension": ".py",
   "mimetype": "text/x-python",
   "name": "python",
   "nbconvert_exporter": "python",
   "pygments_lexer": "ipython3",
   "version": "3.7.4"
  }
 },
 "nbformat": 4,
 "nbformat_minor": 2
}
